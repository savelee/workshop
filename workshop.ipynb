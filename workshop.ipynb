{
  "cells": [
    {
      "cell_type": "markdown",
      "metadata": {
        "id": "YUSZMAoxpxEK"
      },
      "source": [
        "# Les programma\n",
        "\n",
        "1. Talk (25) min\n",
        "2. Starten met Opdrachten (10min)\n",
        "3. Prompt Engineering (Hands-on Opdrachten, gezamelijk) (20min)\n",
        "4. Bonus. Opdrachten (Individueel) (10min)\n",
        "5. Wrap Up (5min)\n",
        "\n",
        "([Slides](https://docs.google.com/presentation/d/13N7zJYNlm02vrY-o9QtDMR9-F2OBBS6j37MPMrImrxo/edit?resourcekey=0-TO-5qVU16SD2pTtgLq9dWA#slide=id.g32b5e93f410_0_31). - Restricted, publish ik later.)"
      ]
    },
    {
      "cell_type": "markdown",
      "metadata": {
        "id": "X59221hD2gIe"
      },
      "source": [
        "# Setup\n",
        "Klik op de \"PLAY\" knop (*pijltje - 3 cells hidden*), om alle tools & code te installeren. Dit duurt heel eventjes..."
      ]
    },
    {
      "cell_type": "code",
      "execution_count": 1,
      "metadata": {
        "id": "cfpwrrQhzu9T"
      },
      "outputs": [],
      "source": [
        "APIKEY = \"AIzaSyBWeV305SIFzyae_rIK4cHy728fM-Ekj5\""
      ]
    },
    {
      "cell_type": "code",
      "execution_count": 4,
      "metadata": {
        "id": "ZmruThV23l6D"
      },
      "outputs": [
        {
          "name": "stdout",
          "output_type": "stream",
          "text": [
            "\n",
            "\u001b[1m[\u001b[0m\u001b[34;49mnotice\u001b[0m\u001b[1;39;49m]\u001b[0m\u001b[39;49m A new release of pip is available: \u001b[0m\u001b[31;49m24.2\u001b[0m\u001b[39;49m -> \u001b[0m\u001b[32;49m25.0\u001b[0m\n",
            "\u001b[1m[\u001b[0m\u001b[34;49mnotice\u001b[0m\u001b[1;39;49m]\u001b[0m\u001b[39;49m To update, run: \u001b[0m\u001b[32;49mpip install --upgrade pip\u001b[0m\n"
          ]
        }
      ],
      "source": [
        "# Install the libraries\n",
        "!pip install -q -U google-generativeai"
      ]
    },
    {
      "cell_type": "code",
      "execution_count": 3,
      "metadata": {
        "id": "u5SE49SS6shR"
      },
      "outputs": [
        {
          "name": "stderr",
          "output_type": "stream",
          "text": [
            "/Users/leeboonstra/.pyenv/versions/3.13.0/lib/python3.13/site-packages/tqdm/auto.py:21: TqdmWarning: IProgress not found. Please update jupyter and ipywidgets. See https://ipywidgets.readthedocs.io/en/stable/user_install.html\n",
            "  from .autonotebook import tqdm as notebook_tqdm\n"
          ]
        },
        {
          "ename": "ModuleNotFoundError",
          "evalue": "No module named 'google.colab'",
          "output_type": "error",
          "traceback": [
            "\u001b[0;31m---------------------------------------------------------------------------\u001b[0m",
            "\u001b[0;31mModuleNotFoundError\u001b[0m                       Traceback (most recent call last)",
            "Cell \u001b[0;32mIn[3], line 3\u001b[0m\n\u001b[1;32m      1\u001b[0m \u001b[38;5;28;01mimport\u001b[39;00m\u001b[38;5;250m \u001b[39m\u001b[38;5;21;01mgoogle\u001b[39;00m\u001b[38;5;21;01m.\u001b[39;00m\u001b[38;5;21;01mgenerativeai\u001b[39;00m\u001b[38;5;250m \u001b[39m\u001b[38;5;28;01mas\u001b[39;00m\u001b[38;5;250m \u001b[39m\u001b[38;5;21;01mgenai\u001b[39;00m\n\u001b[1;32m      2\u001b[0m \u001b[38;5;28;01mimport\u001b[39;00m\u001b[38;5;250m \u001b[39m\u001b[38;5;21;01mos\u001b[39;00m\n\u001b[0;32m----> 3\u001b[0m \u001b[38;5;28;01mfrom\u001b[39;00m\u001b[38;5;250m \u001b[39m\u001b[38;5;21;01mgoogle\u001b[39;00m\u001b[38;5;21;01m.\u001b[39;00m\u001b[38;5;21;01mcolab\u001b[39;00m\u001b[38;5;250m \u001b[39m\u001b[38;5;28;01mimport\u001b[39;00m userdata\n\u001b[1;32m      4\u001b[0m \u001b[38;5;28;01mfrom\u001b[39;00m\u001b[38;5;250m \u001b[39m\u001b[38;5;21;01mgoogle\u001b[39;00m\u001b[38;5;21;01m.\u001b[39;00m\u001b[38;5;21;01mgenerativeai\u001b[39;00m\u001b[38;5;21;01m.\u001b[39;00m\u001b[38;5;21;01mtypes\u001b[39;00m\u001b[38;5;250m \u001b[39m\u001b[38;5;28;01mimport\u001b[39;00m HarmCategory, HarmBlockThreshold\n\u001b[1;32m      6\u001b[0m \u001b[38;5;66;03m# Set your API key (using Colab secrets is recommended)\u001b[39;00m\n\u001b[1;32m      7\u001b[0m \u001b[38;5;66;03m#APIKEY=userdata.get('APIKEY')\u001b[39;00m\n",
            "\u001b[0;31mModuleNotFoundError\u001b[0m: No module named 'google.colab'"
          ]
        }
      ],
      "source": [
        "import google.generativeai as genai\n",
        "import os\n",
        "from google.colab import userdata\n",
        "from google.generativeai.types import HarmCategory, HarmBlockThreshold\n",
        "\n",
        "# Set your API key (using Colab secrets is recommended)\n",
        "#APIKEY=userdata.get('APIKEY')\n",
        "genai.configure(api_key=APIKEY)\n",
        "\n",
        "model = genai.GenerativeModel('gemini-pro')\n",
        "\n",
        "def ai(prompt, config):\n",
        "    \"\"\"\n",
        "    Genereert tekst met behulp van de Gemini API op basis van de gegeven prompt en configuratie.\n",
        "\n",
        "    Parameters:\n",
        "      prompt: De invoertekstprompt (tekenreeks).\n",
        "      config: Een dictionary-achtig object met configuratieparameters\n",
        "              (gebruikt aangepaste namen, zie de parameter_mapping).\n",
        "\n",
        "    Geeft terug:\n",
        "      De gegenereerde tekstrespons (tekenreeks), of None (niets) als er een fout is opgetreden.\n",
        "    \"\"\"\n",
        "\n",
        "    # --- Default Configuration (these cannot be changed by the config object) ---\n",
        "    default_generation_config = genai.GenerationConfig(\n",
        "        top_p=0.9,  # Default top_p\n",
        "        top_k=32,  # Default top_k\n",
        "        stop_sequences=['\\n\\n\\n'],  # Encourage JSON output by stopping at triple newlines\n",
        "        # You can adjust these as needed\n",
        "    )\n",
        "\n",
        "    # --- Mapping of Custom Parameter Names to genai.GenerationConfig Parameters ---\n",
        "    parameter_mapping = {\n",
        "        \"max_output_tokens\": \"max_output_tokens\",  # max output tokens\n",
        "        \"temperatuur\": \"temperature\",  # temperature\n",
        "    }\n",
        "\n",
        "    # --- Safety Settings (for kids' use) ---\n",
        "    safety_settings = {\n",
        "        HarmCategory.HARM_CATEGORY_HARASSMENT: HarmBlockThreshold.BLOCK_LOW_AND_ABOVE,\n",
        "        HarmCategory.HARM_CATEGORY_HATE_SPEECH: HarmBlockThreshold.BLOCK_LOW_AND_ABOVE,\n",
        "        HarmCategory.HARM_CATEGORY_SEXUALLY_EXPLICIT: HarmBlockThreshold.BLOCK_LOW_AND_ABOVE,\n",
        "        HarmCategory.HARM_CATEGORY_DANGEROUS_CONTENT: HarmBlockThreshold.BLOCK_LOW_AND_ABOVE,\n",
        "    }\n",
        "\n",
        "    # --- Create genai.GenerationConfig from Config Object ---\n",
        "    generation_config_params = {}\n",
        "    for custom_name, genai_name in parameter_mapping.items():\n",
        "        if custom_name in config:\n",
        "            generation_config_params[genai_name] = config[custom_name]\n",
        "\n",
        "    # --- Combine Default and User-Provided Config ---\n",
        "    # User-provided settings will override default settings\n",
        "    for custom_name, genai_name in parameter_mapping.items():\n",
        "        if custom_name in config:\n",
        "            setattr(default_generation_config, genai_name, config[custom_name])\n",
        "    generation_config = default_generation_config\n",
        "\n",
        "    try:\n",
        "        response = model.generate_content(\n",
        "            prompt,\n",
        "            generation_config=generation_config,\n",
        "            safety_settings=safety_settings\n",
        "        )\n",
        "\n",
        "        # --- Attempt to Extract JSON (if stop sequence worked) ---\n",
        "        # This is a best-effort attempt; the API doesn't guarantee JSON output\n",
        "        if response.text and response.text.count('{') > 0 and response.text.count('}') > 0:\n",
        "          start_index = response.text.find('{')\n",
        "          end_index = response.text.rfind('}') + 1\n",
        "          json_string = response.text[start_index:end_index]\n",
        "          return json_string\n",
        "        else:\n",
        "          return response.text\n",
        "\n",
        "    except Exception as e:\n",
        "        print(f\"Oeps. Foutje! {e}\")\n",
        "        return None\n"
      ]
    },
    {
      "cell_type": "markdown",
      "metadata": {
        "id": "VHA4JPVTpvyn"
      },
      "source": []
    },
    {
      "cell_type": "markdown",
      "metadata": {
        "id": "aU4J4C5y7Y-b"
      },
      "source": [
        "# Opdrachten"
      ]
    },
    {
      "cell_type": "markdown",
      "metadata": {
        "id": "27Dvb55Wv1_u"
      },
      "source": [
        "## Level 1: Prompt Engineering: De Kunst van het Vragen aan Slimme Computers\n"
      ]
    },
    {
      "cell_type": "markdown",
      "metadata": {
        "id": "l0PsQGw-v7bM"
      },
      "source": [
        "### Uitleg\n",
        "\n",
        "Stel je voor, je hebt een super slimme hond die allerlei commando's kan begrijpen. Maar als je commando's onduidelijk zijn, zal de hond niet weten wat hij moet doen.  Zo werkt het ook met Large Language Models (LLM's), die slimme computers die taal begrijpen.  Je \"praat\" tegen ze door middel van prompts.\n",
        "\n",
        "Een prompt is eigenlijk gewoon de vraag of instructie die je aan de LLM geeft.  Je probeert de LLM zo goed mogelijk uit te leggen wat je wilt, zodat hij het juiste antwoord kan geven.  Denk aan een prompt als: \"Schrijf een kort verhaal over een kat die op avontuur gaat.\"\n",
        "\n",
        "Maar net als bij een hond, is het niet altijd makkelijk om de juiste woorden te vinden.  Soms moet je je prompt een beetje aanpassen om het gewenste antwoord te krijgen.  Dat is waar prompt engineering om de hoek komt kijken.\n",
        "\n",
        "Prompt engineering is de kunst van het bedenken van goede prompts.  Je wilt dat je prompts duidelijk, precies en makkelijk te begrijpen zijn voor de LLM.  Het is een beetje zoals een kok die het perfecte recept probeert te vinden door steeds een beetje te experimenteren met de ingrediënten.  Je probeert verschillende prompts uit, kijkt welke het beste werkt, en past ze net zo lang aan tot je het perfecte resultaat krijgt.\n",
        "\n",
        "**Waar moet je op letten bij prompt engineering?**\n",
        "\n",
        "- **Duidelijkheid**: Zorg ervoor dat je prompt duidelijk is. Hoe duidelijker je vraag, hoe beter de LLM je begrijpt. Zeg niet: \"Vertel iets over dieren,\" maar zeg: \"Schrijf een kort verhaal over een pinguïn die op zoek gaat naar een nieuwe visplek.\"\n",
        "- **Lengte**: Soms is het beter om een korte prompt te gebruiken, en soms heb je meer woorden nodig. Het is een beetje zoeken naar de juiste balans.\n",
        "- **Structuur**: De manier waarop je je prompt opschrijft, is ook belangrijk. Je kunt bijvoorbeeld beginnen met een instructie, dan wat achtergrondinformatie geven, en dan de vraag stellen.\n",
        "\n",
        "Kortom, prompt engineering is een belangrijk onderdeel van het werken met LLM's.  Door goede prompts te schrijven, kun je de LLM's slimme dingen laten doen en krijg je de antwoorden die je zoekt.  Het is een beetje puzzelen en experimenteren, maar uiteindelijk is het super leuk om te zien wat de LLM's allemaal kunnen!"
      ]
    },
    {
      "cell_type": "markdown",
      "metadata": {
        "id": "IhPAqwOiv8-R"
      },
      "source": [
        "### Nu jij!"
      ]
    },
    {
      "cell_type": "code",
      "execution_count": null,
      "metadata": {
        "colab": {
          "base_uri": "https://localhost:8080/",
          "height": 173
        },
        "id": "P5irvo6NwQbk",
        "outputId": "b811f652-23b5-46d6-f2f0-74c5034555b7"
      },
      "outputs": [
        {
          "name": "stdout",
          "output_type": "stream",
          "text": [
            "Spider-Man slingerende door de straten van Manhattan, zijn webben doorkruisen de lucht als een spinnenweb.\n",
            "\n",
            "Hij achtervolgt een groep schurken die een bank beroven, zijn Spidey-zinnen tintelen.\n",
            "\n",
            "Met een krachtige sprong landt hij op het dak van de bank en schiet webben naar de criminelen.\n",
            "\n",
            "Hij overwint hen moeiteloos, zijn behendigheid en snelheid maken hem een formidabele tegenstander.\n",
            "\n",
            "De bank wordt gered en Spider-Man vliegt weg, een stille beschermer van de stad.\n"
          ]
        }
      ],
      "source": [
        "opties = {\n",
        "    \"temperatuur\": 0.7,\n",
        "    \"max_output_tokens\": 500,\n",
        "}\n",
        "\n",
        "prompt = \"\"\"Schrijf een kort verhaaltje over een Marvel karakter, in maximaal 5 zinnen. Iedere zin op een nieuwe regel.\"\"\" #@param\n",
        "# prompt = \"Schrijf een kort verhaaltje over een Marvel karakter, in maximaal 5 zinnen. Iedere zin op een nieuwe regel.\"\"\n",
        "antwoord = ai(prompt, opties)\n",
        "\n",
        "if antwoord:\n",
        "    print(antwoord)"
      ]
    },
    {
      "cell_type": "code",
      "execution_count": null,
      "metadata": {
        "colab": {
          "base_uri": "https://localhost:8080/",
          "height": 34
        },
        "id": "y94XJg66xIFe",
        "outputId": "ec620301-3624-4a31-bfa6-d58589914a7d"
      },
      "outputs": [
        {
          "name": "stdout",
          "output_type": "stream",
          "text": [
            "Brussel\n"
          ]
        }
      ],
      "source": [
        "opties = {\n",
        "    \"temperatuur\": 0.7,\n",
        "    \"max_output_tokens\": 500,\n",
        "}\n",
        "\n",
        "prompt = \"\"\"Wat is de hoofdstad van Belgie?\"\"\" #@param\n",
        "#prompt = \"\"\"Wat is de hoofdstad van Japan?\"\"\"\n",
        "antwoord = ai(prompt, opties)\n",
        "\n",
        "if antwoord:\n",
        "    print(antwoord)"
      ]
    },
    {
      "cell_type": "markdown",
      "metadata": {
        "id": "_dQyNPQtPfOm"
      },
      "source": [
        "## Level 2: One-Shot/Few-Shot Prompting: Prompten met voorbeelden.\n"
      ]
    },
    {
      "cell_type": "markdown",
      "metadata": {
        "id": "UrUievbYtpGh"
      },
      "source": [
        "### Uitleg\n",
        "\n",
        "Je weet nu wat prompts zijn: de vragen die je stelt aan slimme computers (LLM's). Maar soms is het handig om niet alleen een vraag te stellen, maar ook een voorbeeld te geven! Net als wanneer je iemand iets leert door het voor te doen.\n",
        "\n",
        "#### Waarom voorbeelden geven?\n",
        "\n",
        "Stel, je wilt dat de LLM het sentiment van een filmrecensie bepaalt: is de recensie positief, negatief of neutraal? Je kunt dan zeggen: \"Is deze filmrecensie positief, negatief of neutraal: 'Deze film was echt geweldig!'\" Maar je kunt ook een voorbeeld geven:\n",
        "\n",
        "Jouw voorbeeldrecensie:\n",
        "\n",
        "```\n",
        "\"De nieuwe Minions film is echt geweldig! Het verhaal is spannend en ook grappig.\"\n",
        "Sentiment: Positief\n",
        "```\n",
        "\n",
        "Door dit voorbeeld begrijpt de LLM beter wat je bedoelt met een positieve recensie. Hij kan de woorden \"geweldig\", \"spannend\" en \"grappig\" koppelen aan een positief sentiment.\n",
        "\n",
        "#### One-shot Prompts: Eén Voorbeeld\n",
        "\n",
        "Als je één voorbeeld geeft, noemen we dat een one-shot prompt. \"One\" betekent één, dus één voorbeeld. Je geeft de LLM één voorbeeld om te laten zien hoe het de taak moet uitvoeren.\n",
        "\n",
        "#### Few-shot Prompts: Meerdere Voorbeelden\n",
        "\n",
        "Soms is één voorbeeld niet genoeg. Als je wilt dat de LLM een heel specifiek soort sentiment herkent, kun je meerdere voorbeelden geven. Dat noemen we een few-shot prompt. \"Few\" betekent een paar, dus een paar voorbeelden. Door meerdere voorbeelden te geven, laat je de LLM een patroon zien dat hij moet volgen.\n",
        "\n",
        "Voorbeeld met meerdere recensies (few-shot):\n",
        "\n",
        "```\n",
        "Recensie: \"Deze film is echt geweldig! Het verhaal is spannend en de acteurs zijn fantastisch.\"\n",
        "Sentiment: Positief\n",
        "Recensie: \"Wat een saaie film! Ik heb me de hele tijd verveeld.\"\n",
        "Sentiment: Negatief\n",
        "Recensie: \"De film was oké, niet goed, niet slecht.\"\n",
        "Sentiment: Neutraal\n",
        "```\n",
        "\n",
        "#### Hoeveel voorbeelden heb je nodig?\n",
        "\n",
        "Hoeveel voorbeelden je nodig hebt, hangt af van een paar dingen:\n",
        "\n",
        "- Hoe moeilijk de taak is: Als je wilt dat de LLM iets heel ingewikkeld doet, zoals sarcasme herkennen, heb je misschien meer voorbeelden nodig.\n",
        "- Hoe goed je voorbeelden zijn: Duidelijke en goede voorbeelden helpen de LLM beter.\n",
        "- Hoe slim de LLM is: Sommige LLM's hebben minder voorbeelden nodig dan andere.\n",
        "Meestal begin je met een paar voorbeelden, bijvoorbeeld drie tot vijf. Maar als het niet goed lukt, kun je meer voorbeelden proberen.\n",
        "\n",
        "Kortom, voorbeelden zijn super handig om de LLM te laten begrijpen wat je wilt. Of je nu één voorbeeld (one-shot) of een paar voorbeelden (few-shot) geeft, het helpt de LLM om betere en meer passende antwoorden te geven over het sentiment van een filmrecensie!"
      ]
    },
    {
      "cell_type": "markdown",
      "metadata": {
        "id": "PvJQuMHstuCJ"
      },
      "source": [
        "### Nu jij!"
      ]
    },
    {
      "cell_type": "code",
      "execution_count": null,
      "metadata": {
        "colab": {
          "base_uri": "https://localhost:8080/",
          "height": 34
        },
        "id": "01dSFbHs6P_s",
        "outputId": "141979fb-f8b4-4579-a870-3505e9275856"
      },
      "outputs": [
        {
          "name": "stdout",
          "output_type": "stream",
          "text": [
            "Schurk\n"
          ]
        }
      ],
      "source": [
        "opties = {\n",
        "    \"temperatuur\": 0.1,\n",
        "    \"max_output_tokens\": 100,\n",
        "}\n",
        "\n",
        "prompt = \"\"\"Groepeer karakters als held of schurk, zoals voorbeeld:\n",
        "Spider-Man = Held\n",
        "The Joker = Schurk\n",
        "Sneeuwwitje = Held\n",
        "Maleficent = Schurk\n",
        "\n",
        "\"\"\"\n",
        "\n",
        "karakter = \"Jafar\"#@param\n",
        "\n",
        "prompt = prompt + f\"\"\" {karakter} = \"\"\"\n",
        "\n",
        "antwoord = ai(prompt, opties)\n",
        "\n",
        "if antwoord:\n",
        "    print(antwoord)"
      ]
    },
    {
      "cell_type": "markdown",
      "metadata": {
        "id": "EycctORFtoOT"
      },
      "source": [
        "## Level 3: Role Prompting --- Geef de Slimme Computer een Baan!\n"
      ]
    },
    {
      "cell_type": "markdown",
      "metadata": {
        "id": "r6UcEjgzuQ5F"
      },
      "source": [
        "### Uitleg\n",
        "Stel je voor, je hebt een slimme computer (LLM) die allerlei taken kan uitvoeren. Maar wat als je hem nu eens een specifieke rol geeft, zoals een juf, een dokter of een detective? Dat is role prompting!\n",
        "\n",
        "#### Waarom een rol geven?\n",
        "\n",
        "Door de LLM een rol te geven, begrijpt hij beter wat voor soort antwoord je verwacht. Het is alsof je tegen een acteur zegt: \"Je bent nu een stoere ridder!\" De acteur zal zich dan gedragen en praten als een ridder. Zo werkt het ook met de LLM.\n",
        "\n",
        "#### Waarom is Role Prompting handig?\n",
        "\n",
        "- Meer relevante antwoorden: De LLM geeft antwoorden die passen bij de rol die hij heeft gekregen.\n",
        "- Creativiteit: Role prompting kan de LLM helpen om creatiever te zijn in zijn antwoorden.\n",
        "- Makkelijker te begrijpen: Door een rol te geven, is het duidelijker wat voor soort antwoord je verwacht.\n",
        "\n",
        "Kortom, role prompting is een leuke en handige manier om slimme computers te gebruiken. Door ze een rol te geven, kun je ze allerlei interessante vragen laten beantwoorden en krijg je antwoorden die precies bij jouw vraag passen!"
      ]
    },
    {
      "cell_type": "markdown",
      "metadata": {
        "id": "zq5mhWApuDNe"
      },
      "source": [
        "### Nu jij!"
      ]
    },
    {
      "cell_type": "markdown",
      "metadata": {
        "id": "y91SFKKHmjXk"
      },
      "source": [
        "Verander `Jij werkt in een reisbureau.` Naar: `Jij bent nu een leraar in Aardrijkskunde.` En zie het resultaat."
      ]
    },
    {
      "cell_type": "code",
      "execution_count": null,
      "metadata": {
        "colab": {
          "base_uri": "https://localhost:8080/",
          "height": 593
        },
        "id": "pFChPNfhlfVz",
        "outputId": "ba0667df-f770-439f-9aac-6017e00f1a96"
      },
      "outputs": [
        {
          "name": "stdout",
          "output_type": "stream",
          "text": [
            "Parijs, de lichtstad, is een betoverende bestemming die geschiedenis, cultuur en romantiek combineert.\n",
            "\n",
            "**Iconische bezienswaardigheden:**\n",
            "\n",
            "* **Eiffeltoren:** Een symbool van Parijs en een must-see voor bezoekers. Geniet van adembenemende uitzichten vanaf de top.\n",
            "* **Louvre Museum:** Herbergt wereldberoemde meesterwerken, waaronder de Mona Lisa en de Venus van Milo.\n",
            "* **Notre Dame Kathedraal:** Een architectonisch wonder met prachtige glas-in-loodramen en een adembenemend interieur.\n",
            "* **Arc de Triomphe:** Een triomfboog die de overwinningen van Frankrijk herdenkt.\n",
            "* **Paleis van Versailles:** Een extravagant voormalig koninklijk paleis met weelderige tuinen en fonteinen.\n",
            "\n",
            "**Kunst en cultuur:**\n",
            "\n",
            "Parijs is een paradijs voor kunstliefhebbers, met talloze musea en galerieën. Bezoek het Musée d'Orsay voor impressionistische kunst, het Musée Rodin voor beeldhouwwerken en het Centre Pompidou voor moderne kunst.\n",
            "\n",
            "**Romantische charme:**\n",
            "\n",
            "Parijs staat bekend om zijn romantische sfeer. Wandel langs de oevers van de Seine, bezoek de charmante wijk Montmartre of geniet van een diner bij kaarslicht in een traditionele bistro.\n",
            "\n",
            "**Culinaire geneugten:**\n",
            "\n",
            "Parijs is een culinaire hotspot met een scala aan restaurants die wereldberoemde gerechten serveren. Geniet van croissants en koffie in een traditionele patisserie, proef escargots in een chique brasserie of dineer in een sterrenrestaurant.\n",
            "\n",
            "**Winkelen:**\n",
            "\n",
            "Parijs is een paradijs voor shoppers, met luxe boetieks, warenhuizen en charmante markten. Bezoek de Champs-Élysées voor designerwinkels, struin over de Marché aux Puces de Saint-Ouen voor antiek of koop souvenirs in de Marais.\n",
            "\n",
            "**Tips voor bezoekers:**\n",
            "\n",
            "* Boek accommodatie en vluchten van tevoren, vooral tijdens het hoogseizoen.\n",
            "* Koop een Paris Pass voor toegang tot musea, openbaar vervoer en andere attracties.\n",
            "* Leer een paar basiszinnen in het Frans om de communicatie te vergemakkelijken.\n",
            "* Wees voorbereid op drukte, vooral bij populaire bezienswaardigheden\n"
          ]
        }
      ],
      "source": [
        "opties = {\n",
        "    \"temperatuur\": 0.5,\n",
        "    \"max_output_tokens\": 500,\n",
        "}\n",
        "\n",
        "prompt = \"\"\"Jij werkt in een reisbureau. Vertel iets over Parijs.\n",
        "\"\"\"\n",
        "\n",
        "antwoord = ai(prompt, opties)\n",
        "\n",
        "if antwoord:\n",
        "    print(antwoord)"
      ]
    },
    {
      "cell_type": "markdown",
      "metadata": {
        "id": "WAMe9XR_unm0"
      },
      "source": [
        "## Level 4: Contextuele Prompts: Help de Slimme Computer Jouw Idee Begrijpen"
      ]
    },
    {
      "cell_type": "markdown",
      "metadata": {
        "id": "lIYsVq9buSaR"
      },
      "source": [
        "### Uitleg\n",
        "Stel je voor, je bent een regisseur en je wilt een film maken. Je vertelt je acteurs niet alleen wat ze moeten zeggen, maar ook waar ze zijn, wat ze doen en hoe ze zich voelen. Dat is context!  En zo werkt het ook met slimme computers (LLM's). Door contextuele prompts te geven, help je de LLM om jouw idee beter te begrijpen.\n",
        "\n",
        "#### Waarom Context?\n",
        "\n",
        "Zonder context is het moeilijk voor de LLM om het juiste antwoord te geven.  Het is alsof je een acteur vraagt om een zin te zeggen zonder te weten in welke scène hij zit.  Door context te geven, zorg je ervoor dat de LLM sneller begrijpt wat je wilt en betere antwoorden kan geven.\n",
        "\n",
        "#### Voorbeeld: Een Verhaal voor een Actiegame\n",
        "\n",
        "Stel, je wilt dat de LLM een verhaal bedenkt voor een actievideo game. Zonder context zou je kunnen zeggen:  \"Verzin een verhaal voor een actiegame.\" Maar dat is niet genoeg!  De LLM heeft meer informatie nodig.\n",
        "\n",
        "#### Met Context:\n",
        "\n",
        "`Verzin een verhaal voor een actievideo game. Het spel speelt zich af in de ruimte, op een verlaten ruimtestation. De speler is een astronaut die moet overleven en de geheimen van het station moet ontdekken. Er zijn buitenaardse wezens die het station overnemen. De speler heeft een laserpistool en een jetpack.`\n",
        "\n",
        "We hebben nu veel meer details gegeven: waar het spel zich afspeelt (verlaten ruimtestation), wie de speler is (astronaut), wat het doel is (overleven en geheimen ontdekken), wie de vijanden zijn (buitenaardse wezens) en welke middelen de speler heeft (laserpistool en jetpack).\n",
        "Wat gebeurt er met de LLM?\n",
        "\n",
        "Door deze contextuele prompt kan de LLM zich een veel beter beeld vormen van het spel.  Hij kan nu een verhaal bedenken dat past bij de ruimte setting, de astronaut, de buitenaardse wezens en de actie.  Het verhaal zal veel interessanter en gedetailleerder zijn dan wanneer we alleen maar hadden gezegd: \"Verzin een verhaal voor een actiegame.\""
      ]
    },
    {
      "cell_type": "markdown",
      "metadata": {
        "id": "qSrSXCBluVKL"
      },
      "source": [
        "### Nu jij!"
      ]
    },
    {
      "cell_type": "code",
      "execution_count": null,
      "metadata": {
        "colab": {
          "base_uri": "https://localhost:8080/",
          "height": 332
        },
        "id": "KEOhb8hOpFjr",
        "outputId": "df4d05f4-86b5-49cb-ef4a-530836e8211d"
      },
      "outputs": [
        {
          "name": "stdout",
          "output_type": "stream",
          "text": [
            "In de ijzige leegte van de ruimte zweefde het verlaten ruimtestation Aurora, een stille getuige van een vergeten tragedie. Aan boord betrad astronaut Emily Carter, gewapend met een laserpistool en een jetpack, de duistere gangen van het station.\n",
            "\n",
            "Emily's missie was om de geheimen van Aurora te ontdekken, maar ze had niet verwacht wat ze aantrof. De eens zo serene ruimtes waren overspoeld door buitenaardse wezens, hun scherpe tanden en gloeiende ogen een angstaanjagende aanblik.\n",
            "\n",
            "Emily's jetpack brulde tot leven toen ze zich een weg baande door hordes wezens, haar laserpistool een onophoudelijke stroom energie afvurend. De gangen echoënden van explosies en het gekrijs van haar vijanden.\n",
            "\n",
            "Achter elke hoek loerde een nieuw gevaar. Spookachtige schaduwen bewogen zich in de periferie van haar zicht, en het kraken van metaal kondigde de komst van nog meer wezens aan. Emily's hart bonkte in haar borst terwijl ze wanhopig vocht om te overleven.\n",
            "\n",
            "Toen ze de controlekamer bereikte, ontdekte Emily een gruwelijke scène. De bemanning van het station was afgeslacht, hun lichamen achtergelaten als stille getuigen van de verschrikkingen die zich hadden voorgedaan.\n",
            "\n",
            "Emily wist dat ze de waarheid moest achterhalen, dus drukte ze een knop en een holografische projectie verscheen voor haar. Het toonde een beeld van de wezens die het station hadden overgenomen, een buitenaards ras dat bekend stond als de Xarathi.\n",
            "\n",
            "Volgens de projectie waren de Xarathi gevangen genomen door de bemanning van Aurora en onderworpen aan gruwelijke experimenten. Hun ontsnapping had geleid tot een bloederig bloedbad, en Emily was de enige overlevende.\n",
            "\n",
            "Emily's vastberadenheid nam toe. Ze zou de wezens niet laten ontsnappen en de geheimen van Aurora blootleggen. Met hernieuwde kracht stortte ze zich weer in de strijd, haar laserpistool brandend en haar jetpack haar door de gangen voerend.\n",
            "\n",
            "Uiteindelijk, na een epis\n"
          ]
        }
      ],
      "source": [
        "opties = {\n",
        "    \"temperatuur\": 0.7,\n",
        "    \"max_output_tokens\": 500,\n",
        "}\n",
        "\n",
        "prompt = \"\"\"Jij bent een maker van computer spelletjes. Verzin een Nederlands verhaal voor een actievideo game. Maximaal 1 paragraaf, geschikt voor kinderen onder de 12 jaar.\n",
        "\n",
        "    CONTEXT:\n",
        "    Het spel speelt zich af in de ruimte, op een verlaten ruimtestation. De speler is een astronaut die moet overleven en de geheimen van het station moet ontdekken.\n",
        "    Er zijn buitenaardse wezens die het station overnemen. De speler heeft een laserpistool en een jetpack.\n",
        "\"\"\"\n",
        "\n",
        "antwoord = ai(prompt, opties)\n",
        "\n",
        "if antwoord:\n",
        "    print(antwoord)"
      ]
    },
    {
      "cell_type": "markdown",
      "metadata": {
        "id": "tCs7Uaw2pzJc"
      },
      "source": [
        "Als je een samenvatting wil schrijven van een artikel, dan kun je als context, het hele artikel meegeven:"
      ]
    },
    {
      "cell_type": "code",
      "execution_count": null,
      "metadata": {
        "colab": {
          "base_uri": "https://localhost:8080/",
          "height": 69
        },
        "id": "zRBSH4B1p0d3",
        "outputId": "5e68ec6d-9854-4aa7-fa11-01df96f7bc39"
      },
      "outputs": [
        {
          "name": "stdout",
          "output_type": "stream",
          "text": [
            "Harry Potter, een weesjongen die bij zijn wrede familie woont, ontdekt dat hij een tovenaar is en wordt uitgenodigd om naar Zweinstein te gaan.\n",
            "Samen met zijn vrienden Ron en Hermelien ontrafelt Harry een complot om de Steen der Wijzen te stelen en confronteert de kwaadaardige tovenaar Voldemort.\n",
            "Ondanks de gevaren en uitdagingen slaagt Harry erin de Steen te beschermen en Voldemort te verslaan,\n"
          ]
        }
      ],
      "source": [
        "opties = {\n",
        "    \"temperatuur\": 0.2,\n",
        "    \"max_output_tokens\": 100,\n",
        "}\n",
        "\n",
        "prompt = \"\"\"Schrijf een korte samenvatting van 3 zinnen over dit verhaal:\n",
        "\n",
        "CONTEXT:\n",
        "Harry Potter is een weesjongen die in het huis van zijn tante Petunia, zijn oom Herman en zijn neefje Dirk Duffeling woont. Harry raakte zijn ouders kwijt toen hij nog een baby was. Volgens zijn oom en tante was dit door een auto-ongeluk. Harry heeft geen gemakkelijk leven bij de Duffelingen. Waar Dirk alle aandacht krijgt, krijgt Harry enkel de afdankertjes. Hij moet slapen in de bezemkast onder de trap en wordt niet goed behandeld. Zijn oom en tante zien hem als lastpak, hoewel Harry een goede jongen is. Als Dirk jarig is, wordt Harry meegenomen naar de dierentuin. In het reptielenhuis ontdekt Harry dat hij met een slang kan praten. Nadat Dirk hem opzij trekt en hij boos wordt, verdwijnt het glas en ontsnapt de slang. Harry wordt hiervoor gestraft, terwijl hij niet weet hoe dit gebeurde.\n",
        "\n",
        "Uiteindelijk komt er op een dag een brief voor Harry aan. Dit is vreemd, aangezien hij geen verdere familie of vrienden heeft. Tante Petunia trekt de brief uit Harry's handen, waardoor hij hem niet kan lezen. Petunia en Herman besluiten Harry beter te behandelen en doen er alles aan om de nieuwe brieven tegen te houden. Uiteindelijk ontvluchten ze hierdoor zelfs hun huis en gaan naar een afgelegen eiland toe, aangezien steeds meer brieven blijven komen. Op dit eiland wordt tijdens een storm hun deur ingetrapt door Hagrid (Harry is op precies dezelfde dag jarig). Hagrid vertelt Harry uiteindelijk dat hij een tovenaar. De brieven kwamen van Zweinstein (een school voor tovernaars), waar hij een uitnodiging voor kreeg. Hagrid vertelt dat zijn ouders ook tovernaars waren. Dit was jarenlang geheim gehouden voor Harry door zijn oom en tante. Harry kiest ervoor om naar Zweinstein te gaan.\n",
        "\n",
        "Hij gaat met Hagrid mee naar de Wegisweg, waar ze schoolbenodigdheden kopen. Hier krijgt hij o.a. een uil (Hedwig) en een toverstaf. Ook gaan ze langs bij de bank Goudgrijp, waar Hagrid het fortuin laat zien wat Harry's ouders aan Harry hadden nagelaten. Eenmaal in Goudgrijp moet Hagrid ook een pakketje uit een geheime kluis ophalen voor Perkamentus, het schoolhoofd van Zweinstein. Enkele weken later vertrekt Harry Potter van perron 9¾ op Station London King's Cross. Hij kan echter het perron eerst niet vinden, maar ontdekt dat het verborgen is. Hij ontmoet de familie Wezel, die laten zien dat hij door een muur tussen perron 9 en 10 moet lopen om de trein te bereiken. Hij gaat mee in de Zweinsteinexpress, waar Ron Wezel, Marcel Lubbermans en Hermelien Griffel ontmoet. Ook ontmoet hij opnieuw Draco Malfidus, waardoor het vijandschap tussen Draco en Harry een feit is.\n",
        "\n",
        "\n",
        "Een tekening van Zweinstein\n",
        "Bij het station van Zweinstein worden ze opgewacht door Hagrid. Per roeiboot gaan de eerstejaars naar Zweinstein. In de Grote Zaal worden ze door Sorteerhoed ingedeeld in vier afdelingen; Griffoendor, Zwadderich, Ravenklauw en Huffelpuf. Harry, Hermelien en Ron komen in Grifoendor terecht, terwijl Draco naar Zwadderich komt. Perkamentus spreekt de leerlingen toe en verbiedt hen het Verboden Bos en de rechtergang op de derde verdieping in te gaan. Ook is een wedstrijd tussen de verschillende afdelingen; waarbij deze tijdens één jaar punten kunnen verdienen. Aan het einde van het jaar wordt de afdeling met de meeste punten tot winnaar uitgeroepen.\n",
        "\n",
        "Harry en Ron worden door Draco uitgedaagd om rond middernacht af te spreken. Hermelien probeert hen tegen te houden, maar gaat uiteindelijk mee. Ze ontdekken een driekoppige hond die iets bewaakt onder een luik. Tijdens het Halloweenfeestje komt professor Krinkel ineens binnen en vertelt dat er een trol ronddwaalt bij de meisjestoiletten. Hermelien is op dat moment daar aanwezig na een aanvaring met Ron. Harry en Ron besluiten haar daarom te redden, waarna de drie goede vrienden worden. Ondertussen gaat Harry het zwerkbalteam in, maar tijdens een wedstrijd wordt zijn bezem plotseling behekst. Hermelien ziet dat professor Sneep dit doet en ze weten hem te stoppen. Harry wint de wedstrijd, waardoor Grifoendor de meeste punten heeft.\n",
        "\n",
        "Tijdens de kerst krijgt Harry een onzichtbaarheidmantel van een onbekend persoon. Hij besluit deze mantel te gebruiken om informatie op te zoeken over Nicolaas Flamel, de maker van de Steen der Wijzen. De Steen der Wijzen is een object waarmee iemand onsterfelijk kan worden en objecten in goud kan laten veranderen. Hierdoor vermoeden Harry, Ron en Hermelien dat de Steen der Wijzen verstopt ligt onder het luik in de gang. Onderweg komt Harry de Spiegel van Negereb tegen, waarin hij zijn ouders ziet. De spiegel laat namelijk zien wat diegene het meeste wilt hebben.\n",
        "\n",
        "\n",
        "Lily en James Potter met een jonge Harry Potter\n",
        "Hagrid wilde altijd al een draak hebben en krijgt ineens een drakenei van een Noorse bultrug. Het ei komt uit en hij noemt de draak \"Norbert\". Norbert wordt echter te groot en te gevaarlijk. Ook is het verboden om draken te houden. Hagrid staat de draak daarom af aan Ron's oudere broer, Charlie Wemel. Draco komt hierover te weten en uiteindelijk worden Draco, Harry, Hermelien en Marcel betrapt. Grifoendor krijgt hierdoor veel punten aftrekt en iedereen haat Harry hierdoor. Als straft moeten 's avonds Hagrid helpen met zoeken naar een gewonde eenhoorn in het Verboden Bos. Ze vinden een gewonde eenhoorn met een wezen in een lange mantel wat het bloed eruit zuigt. Dit wezen wordt weggejaagd door een centaur. Het wordt duidelijk dat de boze tovenaar Voldemort weer terug is en dat het wezen waarschijnlijk hem was. Eenhoornbloed houdt mensen namelijk in leven, zelfs als ze niet meer te redden zijn.\n",
        "\n",
        "Harry, Ron en Hermelien ontdekken dat Voldemort waarschijnlijk het drakenei aan Hagrid had gegeven. Ook wordt duidelijk dat hij achter de Steen der Wijzen aanzit, terwijl Perkamentus weg is. Volgens hen staan Sneep aan Voldemorts kant. De drie besluiten daarom de Steen der Wijzen te zoeken en veilig te stellen voor Voldemort. Ze leiden de driekoppige hond (Pluisje) af met muziek en gaan door het luik heen. Hierna volgens enkele obstakels. Ten eerste, komen ze in de duivelstrik (een plant) terecht die ze verslaan door middel van licht te maken. Ten tweede, moeten ze een vliegende sleutel vangen. Vervolgens moeten ze een betoverd schaakspel spelen, waarbij Ron zichzelf opoffert. Harry en Hermelien gaan door, waar ze een bewusteloze trol treffen. Ze lossen een raadsel op en door een toverdrankje kan Harry in zijn eentje doorlopen naar de volgende kamer.\n",
        "\n",
        "In de laatste kamer ziet hij dat niet professor Sneep maar professor Krinkel in de ruimte staat. Professor Krinkel blijkt de slechterik te zijn en jaren geleden naar de duistere kant van Voldemort over te zijn gelopen. Hij deed zich heel anders voor om van Harry af te komen. In de ruimte staat ook de spiegel van Neregeb, waarin Krinkel zichzelf met de steen ziet. Hij zet Harry voor de spiegel. Harry ziet in zijn spiegelbeeld dat hij de steen vasthoudt en in zijn zak stopt. Op datzelfde moment voelt Harry de steen in zijn broekzak. Harry houdt dit geheim voor Krinkel met een leugen, maar dan maakt een onbekende stem bekend dat hij liegt. De onbekende stem blijkt Voldemort te zijn die als een parasiet op het achterhoofd van professor Krinkel vastzit. Krinkel probeert de steen van Harry te krijgen. Wanneer hij Harry aanraakt, verbrandt hij. Krinkel verbrandt uiteindelijk en Voldemort gaat er als schim vandoor. Perkamentus komt Harry redden.\n",
        "\n",
        "Na enkel dagen wordt Harry wakker. Perkamentus legt uit dat Voldemort hem niets aan kon doen, aangezien zijn moeder voor hem stierf (en hij dus beschermt is door zijn moeders liefde). Ook legt hij uit dat de Steen der Wijzen vernietigd zou worden (waardoor Nicolaas Flamel en zijn vrouw sterven). Daarnaast maakt hij bekend dat professor Sneep juist Harry beschermde, maar gemeen is tegen Harry aangezien hij een conflict had met zijn vader. Uiteindelijk kan Harry het eindfeest bijwonen. Eerst heeft Zwadderich de wedstrijd gewonnen, maar op het laatste moment worden er nog punten aan Grifoendor toegekend. Hierdoor wint Grifoendor en de leerlingen gaan terug naar huis voor de zomervakantie.\n",
        "\"\"\"\n",
        "\n",
        "antwoord = ai(prompt, opties)\n",
        "\n",
        "if antwoord:\n",
        "    print(antwoord)"
      ]
    },
    {
      "cell_type": "markdown",
      "metadata": {
        "id": "UYTO58-puIbj"
      },
      "source": [
        "## Level 5: Chain Of Thought (CoT) --- Een ketting van gedachten."
      ]
    },
    {
      "cell_type": "markdown",
      "metadata": {
        "id": "ETfL-su9uqge"
      },
      "source": [
        "### Uitleg\n",
        "Slimme computers (LLM's) zijn goed in taal, maar soms hebben ze moeite met logisch nadenken, vooral bij taken zoals rekenen. Chain of Thought (CoT) prompting is een slimme manier om ze daarbij te helpen. Het is alsof je de computer vraagt om hardop te denken, zodat je kunt zien hoe hij tot een antwoord komt. Een ketting van gedachten.\n",
        "\n",
        "#### Hoe werkt het?\n",
        "\n",
        "In plaats van alleen de vraag te stellen, vraag je de LLM om de stappen te laten zien die hij neemt om tot het antwoord te komen. Je zegt bijvoorbeeld niet alleen:\n",
        "\n",
        "`Hoe oud is mijn broer?`, maar: `Hoe oud is mijn broer? Laten we stap voor stap denken.`\n",
        "\n",
        "#### Waarom is het handig?\n",
        "\n",
        "- Betere Antwoorden: Door de tussenstappen te laten zien, kan de LLM betere en nauwkeurigere antwoorden geven.\n",
        "- Begrip: Je kunt zien hoe de LLM tot zijn antwoord komt. Als er iets fout gaat, kun je zien waar het misgaat.\n",
        "- Makkelijk te gebruiken: CoT prompting is makkelijk toe te passen en werkt goed met de meeste LLM's.\n",
        "\n",
        "### Voorbeeld: Een Rekenprobleem\n",
        "\n",
        "Zonder CoT:\n",
        "\n",
        "```\n",
        "Vraag: Toen ik 3 was, was mijn broer 3 keer zo oud. Nu ben ik 20. Hoe oud is mijn broer?\n",
        "\n",
        "Antwoord: 63 jaar oud (Fout!)\n",
        "```\n",
        "\n",
        "\n",
        "Zoals je ziet, is het antwoord fout. LLM's hebben vaak moeite met rekenen.\n",
        "\n",
        "Met CoT:\n",
        "\n",
        "```\n",
        "Vraag: Toen ik 3 was, was mijn broer 3 keer zo oud. Nu ben ik 20. Hoe oud is mijn broer? Laten we stap voor stap denken.\n",
        "\n",
        "Antwoord:\n",
        "\n",
        "Toen ik 3 was, was mijn broer 3 * 3 = 9 jaar oud.\n",
        "Ik ben nu 20, dus ik ben 20 - 3 = 17 jaar ouder geworden.\n",
        "Mijn broer is ook 17 jaar ouder geworden.\n",
        "Dus mijn broer is nu 9 + 17 = 26 jaar oud.\n",
        "Mijn broer is dus 26 jaar oud. (Goed!)\n",
        "```\n",
        "\n",
        "Nu is het antwoord wel goed! Door de LLM stap voor stap te laten denken, komt hij tot de juiste oplossing.\n"
      ]
    },
    {
      "cell_type": "markdown",
      "metadata": {
        "id": "lGrlf-VcusNg"
      },
      "source": [
        "### Nu jij!"
      ]
    },
    {
      "cell_type": "code",
      "execution_count": null,
      "metadata": {
        "colab": {
          "base_uri": "https://localhost:8080/",
          "height": 225
        },
        "id": "PbtmLMtKsG_o",
        "outputId": "b4a068bc-745b-4e10-fcff-84a415e45c32"
      },
      "outputs": [
        {
          "name": "stdout",
          "output_type": "stream",
          "text": [
            "**Stap 1: Bereken het leeftijdsverschil toen je 3 was.**\n",
            "\n",
            "* Toen je 3 was, was je broer 3 x 3 = 9 jaar oud.\n",
            "* Leeftijdsverschil = 9 - 3 = 6 jaar\n",
            "\n",
            "**Stap 2: Bereken hoeveel jaar er sindsdien zijn verstreken.**\n",
            "\n",
            "* Je bent nu 20, dus er zijn 20 - 3 = 17 jaar verstreken.\n",
            "\n",
            "**Stap 3: Voeg het leeftijdsverschil toe aan je huidige leeftijd om de huidige leeftijd van je broer te bepalen.**\n",
            "\n",
            "* Huidige leeftijd van je broer = 20 + 6 = 26 jaar\n"
          ]
        }
      ],
      "source": [
        "opties = {\n",
        "    \"temperatuur\": 0.7,\n",
        "    \"max_output_tokens\": 500,\n",
        "}\n",
        "\n",
        "prompt = \"\"\"Toen ik 3 was, was mijn broer 3 keer zo oud. Nu ben ik 20. Hoe oud is mijn broer? Laten we stap voor stap denken.\n",
        "\"\"\"\n",
        "\n",
        "antwoord = ai(prompt, opties)\n",
        "\n",
        "if antwoord:\n",
        "    print(antwoord)"
      ]
    },
    {
      "cell_type": "markdown",
      "metadata": {
        "id": "OyFPGTeEsXSz"
      },
      "source": [
        "Je kunt ook een ketting van gedachten maken met voorbeelden:"
      ]
    },
    {
      "cell_type": "code",
      "execution_count": null,
      "metadata": {
        "colab": {
          "base_uri": "https://localhost:8080/",
          "height": 86
        },
        "id": "PWgqLyWGsWfP",
        "outputId": "81e88e44-91db-4b2e-a725-16f085038882"
      },
      "outputs": [
        {
          "name": "stdout",
          "output_type": "stream",
          "text": [
            "Toen ik 3 jaar was, was mijn broer 3 * 3 = 9 jaar oud. \n",
            "Dat is een leeftijdsverschil van 6 jaar en mijn broer is ouder. \n",
            "Nu ben ik 20 jaar oud, dus mijn broer is 20 + 6 = 26 jaar oud. \n",
            "Het antwoord is 26.\n"
          ]
        }
      ],
      "source": [
        "opties = {\n",
        "    \"temperatuur\": 0.7,\n",
        "    \"max_output_tokens\": 500,\n",
        "}\n",
        "\n",
        "prompt = \"\"\"Vraag: Toen mijn broer 2 jaar oud was, was ik dubbel zo oud. Nu ben ik 40 jaar oud. Hoe oud is mijn broer? Laten we stap voor stap denken.\n",
        "\n",
        "Antwoord:\n",
        "Toen mijn broer 2 jaar was, was ik 2 * 2 = 4 jaar oud.\n",
        "Dat is een leeftijdsverschil van 2 jaar en ik ben ouder.\n",
        "Nu ben ik 40 jaar oud, dus mijn broer is 40 - 2 = 38 jaar oud.\n",
        "Het antwoord is 38.\n",
        "\n",
        "Vraag: Toen ik 3 was, was mijn broer 3 keer zo oud. Nu ben ik 20. Hoe oud is mijn broer? Laten we stap voor stap denken.\n",
        "Antwoord:\n",
        "\"\"\"\n",
        "\n",
        "antwoord = ai(prompt, opties)\n",
        "\n",
        "if antwoord:\n",
        "    print(antwoord)"
      ]
    },
    {
      "cell_type": "markdown",
      "metadata": {
        "id": "PBX6TFoguyh5"
      },
      "source": [
        "# BONUS: Nog meer opdrachten"
      ]
    },
    {
      "cell_type": "markdown",
      "metadata": {
        "id": "k55Pf52Wu3Th"
      },
      "source": [
        "## LLMS laten programmeren."
      ]
    },
    {
      "cell_type": "markdown",
      "metadata": {
        "id": "9GKGCaVXvASN"
      },
      "source": [
        "### Uitleg\n",
        "\n",
        "Wist je dat slimme computers (LLM's) niet alleen kunnen praten en verhalen kunnen schrijven, maar ook kunnen programmeren?  Dat is best cool!  Ze kunnen je helpen met allerlei taken die te maken hebben met computercode.\n",
        "\n",
        "#### Wat kunnen ze precies?\n",
        "\n",
        "- Code Schrijven: Je kunt de LLM vragen om een stukje code te schrijven in een bepaalde programmeertaal, zoals Python. Stel, je wilt een simpel spelletje maken, dan kun je de LLM vragen om de code te schrijven.\n",
        "- Code Vertalen: Soms heb je code in de ene taal (bijvoorbeeld Java) en wil je die omzetten naar een andere taal (bijvoorbeeld Python). De LLM kan je helpen om de code te vertalen.\n",
        "- Fouten Opsporen (Debuggen): Iedereen maakt wel eens fouten in zijn code. Dat is normaal! Maar het is soms lastig om die fouten te vinden. De LLM kan je code bekijken en helpen om de fouten op te sporen. Het is net een slimme detective voor je code!\n",
        "- Code Uitleggen: Soms kom je code tegen die je niet begrijpt. De LLM kan je helpen om de code uit te leggen, zodat je snapt wat er gebeurt.\n",
        "\n",
        "#### Waarom is dit handig?\n",
        "\n",
        "- Je kunt sneller leren programmeren: De LLM is als een slimme leraar die je helpt met de moeilijke dingen.\n",
        "- Je kunt tijd besparen: De LLM kan je helpen om sneller code te schrijven, zodat je meer tijd hebt voor andere dingen.\n",
        "- Je kunt betere code schrijven: De LLM kan je helpen om fouten te voorkomen en nettere code te schrijven.\n",
        "\n",
        "Een voorbeeld:"
      ]
    },
    {
      "cell_type": "markdown",
      "metadata": {
        "id": "Z0NNiKvgu-oR"
      },
      "source": [
        "### Nu jij!"
      ]
    },
    {
      "cell_type": "code",
      "execution_count": null,
      "metadata": {
        "colab": {
          "base_uri": "https://localhost:8080/",
          "height": 573
        },
        "id": "djzWF6_k4t1G",
        "outputId": "d5ac3899-f37b-43ed-bed3-a9b090e75d9f"
      },
      "outputs": [
        {
          "name": "stdout",
          "output_type": "stream",
          "text": [
            "```python\n",
            "import random\n",
            "\n",
            "# Kies een willekeurig getal tussen 1 en 100\n",
            "getal = random.randint(1, 100)\n",
            "\n",
            "# Stel de teller voor het aantal pogingen in op 0\n",
            "pogingen = 0\n",
            "\n",
            "# Loop totdat de speler het getal raadt of het aantal pogingen op is\n",
            "while pogingen < 7:\n",
            "    # Vraag de speler om een gok\n",
            "    gok = int(input(\"Raad het getal tussen 1 en 100: \"))\n",
            "\n",
            "    # Verhoog de teller voor het aantal pogingen\n",
            "    pogingen += 1\n",
            "\n",
            "    # Controleer of de gok te hoog, te laag of correct is\n",
            "    if gok > getal:\n",
            "        print(\"Je gok is te hoog.\")\n",
            "    elif gok < getal:\n",
            "        print(\"Je gok is te laag.\")\n",
            "    else:\n",
            "        print(\"Gefeliciteerd! Je hebt het getal geraden.\")\n",
            "        break\n",
            "\n",
            "# Controleer of de speler het getal heeft geraden\n",
            "if gok == getal:\n",
            "    print(\"Je hebt het getal geraden in\", pogingen, \"pogingen.\")\n",
            "else:\n",
            "    print(\"Je hebt het getal niet geraden. Het juiste getal was\", getal)\n",
            "```\n"
          ]
        }
      ],
      "source": [
        "opties = {\n",
        "    \"temperatuur\": 0.7,\n",
        "    \"max_output_tokens\": 2000,\n",
        "}\n",
        "\n",
        "prompt = \"\"\"Schrijf een Python-programma voor een 'Raad het Getal' spel.  De computer kiest een willekeurig getal tussen 1 en 100. De speler moet het getal raden.\n",
        "Na elke gok geeft de computer aan of de gok te hoog of te laag is.  De speler heeft maximaal 7 pogingen.\n",
        "Als de speler het getal binnen 7 pogingen raadt, wint hij. Anders verliest hij.  Zorg ervoor dat de code duidelijk is en commentaar bevat.\"\n",
        "\n",
        "Wat we verwachten van de LLM:\n",
        "\n",
        "We verwachten dat de LLM de volgende dingen kan genereren:\n",
        "\n",
        "Een willekeurig getal tussen 1 en 100.\n",
        "Een loop waarin de speler gokt.\n",
        "Feedback aan de speler (te hoog, te laag).\n",
        "Een teller voor de pogingen.\n",
        "Een win/verlies conditie.\n",
        "Duidelijke code met commentaar.\n",
        "\"\"\"\n",
        "\n",
        "antwoord = ai(prompt, opties)\n",
        "\n",
        "if antwoord:\n",
        "    print(antwoord)"
      ]
    },
    {
      "cell_type": "markdown",
      "metadata": {
        "id": "gR2Ao5N36IP_"
      },
      "source": [
        "Plak de code wat tussen de 3 back quotes staat, hieronder. En kijk of je het spel kan spelen:"
      ]
    },
    {
      "cell_type": "code",
      "execution_count": null,
      "metadata": {
        "colab": {
          "base_uri": "https://localhost:8080/"
        },
        "id": "AzvvStoU54gK",
        "outputId": "800e85f3-376b-4ae1-826b-ca362d024b54"
      },
      "outputs": [
        {
          "name": "stdout",
          "output_type": "stream",
          "text": [
            "Raad het getal tussen 1 en 100: 5\n",
            "Je gok is te laag.\n",
            "Raad het getal tussen 1 en 100: 50\n",
            "Je gok is te laag.\n",
            "Raad het getal tussen 1 en 100: 80\n",
            "Je gok is te hoog.\n",
            "Raad het getal tussen 1 en 100: 60\n",
            "Je gok is te laag.\n",
            "Raad het getal tussen 1 en 100: 70\n",
            "Je gok is te hoog.\n",
            "Raad het getal tussen 1 en 100: 65\n",
            "Gefeliciteerd! Je hebt het getal geraden.\n",
            "Je hebt het getal geraden in 6 pogingen.\n"
          ]
        }
      ],
      "source": []
    }
  ],
  "metadata": {
    "colab": {
      "provenance": []
    },
    "kernelspec": {
      "display_name": "3.13.0",
      "language": "python",
      "name": "python3"
    },
    "language_info": {
      "codemirror_mode": {
        "name": "ipython",
        "version": 3
      },
      "file_extension": ".py",
      "mimetype": "text/x-python",
      "name": "python",
      "nbconvert_exporter": "python",
      "pygments_lexer": "ipython3",
      "version": "3.13.0"
    }
  },
  "nbformat": 4,
  "nbformat_minor": 0
}
